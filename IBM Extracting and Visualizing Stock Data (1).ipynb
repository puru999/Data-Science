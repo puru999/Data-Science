{
 "cells": [
  {
   "cell_type": "markdown",
   "id": "8877558e-1da5-4448-9912-2ee48c6dcb04",
   "metadata": {},
   "source": [
    "# **Extracting and Visualizing Stock Data**\n",
    "\n",
    "# **Description**\n",
    "Extracting essential data from a dataset and displaying it is a necessary part of data science; therefore individuals can make correct decisions based on the data. In this assignment, you will extract some stock data, you will then display this data in a graph.\n",
    "\n",
    "# **Table of Contents**\n",
    "- Define a Function that Makes a Graph\n",
    "- Question 1: Use yfinance to Extract Stock Data\n",
    "- Question 2: Use Webscraping to Extract Tesla Revenue Data\n",
    "- Question 3: Use yfinance to Extract Stock Data\n",
    "- Question 4: Use Webscraping to Extract GME Revenue Data\n",
    "- Question 5: Plot Tesla Stock Graph\n",
    "- Question 6: Plot GameStop Stock Graph\n",
    "- Estimated Time Needed: 30 min\n",
    "\n",
    "Note:- If you are working Locally using anaconda, please uncomment the following code and execute it. Use the version as per your python version."
   ]
  },
  {
   "cell_type": "code",
   "execution_count": 6,
   "id": "1fc7af75-8ece-4493-893f-7385a12de0a4",
   "metadata": {},
   "outputs": [
    {
     "name": "stdout",
     "output_type": "stream",
     "text": [
      "Requirement already satisfied: yfinance in /opt/anaconda3/lib/python3.12/site-packages (0.2.51)\n",
      "Requirement already satisfied: pandas>=1.3.0 in /opt/anaconda3/lib/python3.12/site-packages (from yfinance) (2.2.2)\n",
      "Requirement already satisfied: numpy>=1.16.5 in /opt/anaconda3/lib/python3.12/site-packages (from yfinance) (1.26.4)\n",
      "Requirement already satisfied: requests>=2.31 in /opt/anaconda3/lib/python3.12/site-packages (from yfinance) (2.32.2)\n",
      "Requirement already satisfied: multitasking>=0.0.7 in /opt/anaconda3/lib/python3.12/site-packages (from yfinance) (0.0.11)\n",
      "Requirement already satisfied: lxml>=4.9.1 in /opt/anaconda3/lib/python3.12/site-packages (from yfinance) (5.2.1)\n",
      "Requirement already satisfied: platformdirs>=2.0.0 in /opt/anaconda3/lib/python3.12/site-packages (from yfinance) (3.10.0)\n",
      "Requirement already satisfied: pytz>=2022.5 in /opt/anaconda3/lib/python3.12/site-packages (from yfinance) (2024.1)\n",
      "Requirement already satisfied: frozendict>=2.3.4 in /opt/anaconda3/lib/python3.12/site-packages (from yfinance) (2.4.2)\n",
      "Requirement already satisfied: peewee>=3.16.2 in /opt/anaconda3/lib/python3.12/site-packages (from yfinance) (3.17.8)\n",
      "Requirement already satisfied: beautifulsoup4>=4.11.1 in /opt/anaconda3/lib/python3.12/site-packages (from yfinance) (4.12.3)\n",
      "Requirement already satisfied: html5lib>=1.1 in /opt/anaconda3/lib/python3.12/site-packages (from yfinance) (1.1)\n",
      "Requirement already satisfied: soupsieve>1.2 in /opt/anaconda3/lib/python3.12/site-packages (from beautifulsoup4>=4.11.1->yfinance) (2.5)\n",
      "Requirement already satisfied: six>=1.9 in /opt/anaconda3/lib/python3.12/site-packages (from html5lib>=1.1->yfinance) (1.16.0)\n",
      "Requirement already satisfied: webencodings in /opt/anaconda3/lib/python3.12/site-packages (from html5lib>=1.1->yfinance) (0.5.1)\n",
      "Requirement already satisfied: python-dateutil>=2.8.2 in /opt/anaconda3/lib/python3.12/site-packages (from pandas>=1.3.0->yfinance) (2.9.0.post0)\n",
      "Requirement already satisfied: tzdata>=2022.7 in /opt/anaconda3/lib/python3.12/site-packages (from pandas>=1.3.0->yfinance) (2023.3)\n",
      "Requirement already satisfied: charset-normalizer<4,>=2 in /opt/anaconda3/lib/python3.12/site-packages (from requests>=2.31->yfinance) (2.0.4)\n",
      "Requirement already satisfied: idna<4,>=2.5 in /opt/anaconda3/lib/python3.12/site-packages (from requests>=2.31->yfinance) (3.7)\n",
      "Requirement already satisfied: urllib3<3,>=1.21.1 in /opt/anaconda3/lib/python3.12/site-packages (from requests>=2.31->yfinance) (2.2.2)\n",
      "Requirement already satisfied: certifi>=2017.4.17 in /opt/anaconda3/lib/python3.12/site-packages (from requests>=2.31->yfinance) (2024.6.2)\n",
      "Requirement already satisfied: bs4 in /opt/anaconda3/lib/python3.12/site-packages (0.0.2)\n",
      "Requirement already satisfied: beautifulsoup4 in /opt/anaconda3/lib/python3.12/site-packages (from bs4) (4.12.3)\n",
      "Requirement already satisfied: soupsieve>1.2 in /opt/anaconda3/lib/python3.12/site-packages (from beautifulsoup4->bs4) (2.5)\n",
      "Requirement already satisfied: nbformat in /opt/anaconda3/lib/python3.12/site-packages (5.9.2)\n",
      "Requirement already satisfied: fastjsonschema in /opt/anaconda3/lib/python3.12/site-packages (from nbformat) (2.16.2)\n",
      "Requirement already satisfied: jsonschema>=2.6 in /opt/anaconda3/lib/python3.12/site-packages (from nbformat) (4.19.2)\n",
      "Requirement already satisfied: jupyter-core in /opt/anaconda3/lib/python3.12/site-packages (from nbformat) (5.7.2)\n",
      "Requirement already satisfied: traitlets>=5.1 in /opt/anaconda3/lib/python3.12/site-packages (from nbformat) (5.14.3)\n",
      "Requirement already satisfied: attrs>=22.2.0 in /opt/anaconda3/lib/python3.12/site-packages (from jsonschema>=2.6->nbformat) (23.1.0)\n",
      "Requirement already satisfied: jsonschema-specifications>=2023.03.6 in /opt/anaconda3/lib/python3.12/site-packages (from jsonschema>=2.6->nbformat) (2023.7.1)\n",
      "Requirement already satisfied: referencing>=0.28.4 in /opt/anaconda3/lib/python3.12/site-packages (from jsonschema>=2.6->nbformat) (0.30.2)\n",
      "Requirement already satisfied: rpds-py>=0.7.1 in /opt/anaconda3/lib/python3.12/site-packages (from jsonschema>=2.6->nbformat) (0.10.6)\n",
      "Requirement already satisfied: platformdirs>=2.5 in /opt/anaconda3/lib/python3.12/site-packages (from jupyter-core->nbformat) (3.10.0)\n"
     ]
    }
   ],
   "source": [
    "!pip install yfinance\n",
    "!pip install bs4\n",
    "!pip install nbformat"
   ]
  },
  {
   "cell_type": "code",
   "execution_count": 7,
   "id": "7e7f8079-8650-465b-9a19-3c8fadb6cc9c",
   "metadata": {},
   "outputs": [],
   "source": [
    "import yfinance as yf\n",
    "import pandas as pd\n",
    "import requests\n",
    "from bs4 import BeautifulSoup\n",
    "import plotly.graph_objects as go\n",
    "from plotly.subplots import make_subplots"
   ]
  },
  {
   "cell_type": "markdown",
   "id": "349399b8-50ef-4f57-bbdd-d0ed0b17c479",
   "metadata": {},
   "source": [
    "In Python, you can ignore warnings using the warnings module. You can use the filterwarnings function to filter or ignore specific warning messages or categories."
   ]
  },
  {
   "cell_type": "code",
   "execution_count": 9,
   "id": "45af5a95-ee78-4bf1-83cd-3130f9f31542",
   "metadata": {},
   "outputs": [],
   "source": [
    "import warnings\n",
    "# Ignore all warnings\n",
    "warnings.filterwarnings(\"ignore\", category=FutureWarning)"
   ]
  },
  {
   "cell_type": "markdown",
   "id": "6e887f64-ccd7-4172-85c6-ba1d45cbb120",
   "metadata": {},
   "source": [
    "# **Define Graphing Function**\n",
    "In this section, we define the function make_graph. You don't have to know how the function works, you should only care about the inputs. It takes a dataframe with stock data (dataframe must contain Date and Close columns), a dataframe with revenue data (dataframe must contain Date and Revenue columns), and the name of the stock."
   ]
  },
  {
   "cell_type": "code",
   "execution_count": 11,
   "id": "62abbde1-7554-4be6-8de9-1520d349f138",
   "metadata": {},
   "outputs": [],
   "source": [
    "def make_graph(stock_data, revenue_data, stock):\n",
    "    fig = make_subplots(rows=2, cols=1, shared_xaxes=True, subplot_titles=(\"Historical Share Price\", \"Historical Revenue\"), vertical_spacing = .3)\n",
    "    stock_data_specific = stock_data[stock_data.Date <= '2021-06-14']\n",
    "    revenue_data_specific = revenue_data[revenue_data.Date <= '2021-04-30']\n",
    "    fig.add_trace(go.Scatter(x=pd.to_datetime(stock_data_specific.Date, infer_datetime_format=True), y=stock_data_specific.Close.astype(\"float\"), name=\"Share Price\"), row=1, col=1)\n",
    "    fig.add_trace(go.Scatter(x=pd.to_datetime(revenue_data_specific.Date, infer_datetime_format=True), y=revenue_data_specific.Revenue.astype(\"float\"), name=\"Revenue\"), row=2, col=1)\n",
    "    fig.update_xaxes(title_text=\"Date\", row=1, col=1)\n",
    "    fig.update_xaxes(title_text=\"Date\", row=2, col=1)\n",
    "    fig.update_yaxes(title_text=\"Price ($US)\", row=1, col=1)\n",
    "    fig.update_yaxes(title_text=\"Revenue ($US Millions)\", row=2, col=1)\n",
    "    fig.update_layout(showlegend=False,\n",
    "    height=900,\n",
    "    title=stock,\n",
    "    xaxis_rangeslider_visible=True)\n",
    "    fig.show()"
   ]
  },
  {
   "cell_type": "markdown",
   "id": "bbe83345-1724-4659-9135-480472cf2394",
   "metadata": {},
   "source": [
    "Use the make_graph function that we’ve already defined. You’ll need to invoke it in questions 5 and 6 to display the graphs and create the dashboard.\n",
    "\n",
    "Note: You don’t need to redefine the function for plotting graphs anywhere else in this notebook; just use the existing functio"
   ]
  },
  {
   "cell_type": "markdown",
   "id": "0ba8b4f8-fae2-40d1-b1ba-acd34c5af638",
   "metadata": {},
   "source": [
    "# **Question 1**: Use yfinance to Extract Stock Data\n",
    "Using the Ticker function enter the ticker symbol of the stock we want to extract data on to create a ticker object. The stock is Tesla and its ticker symbol is TSLA."
   ]
  },
  {
   "cell_type": "code",
   "execution_count": 14,
   "id": "8d517ded-70a1-48c1-8524-44df1b7283ba",
   "metadata": {},
   "outputs": [],
   "source": [
    "tesla_ticker = yf.Ticker(\"TSLA\")"
   ]
  },
  {
   "cell_type": "markdown",
   "id": "107ebe65-8b47-4958-9bac-444e666b41a6",
   "metadata": {},
   "source": [
    "Using the ticker object and the function history extract stock information and save it in a dataframe named tesla_data. Set the period parameter to \"max\" so we get information for the maximum amount of time."
   ]
  },
  {
   "cell_type": "code",
   "execution_count": 16,
   "id": "361c2826-d213-420c-8cd9-9133e0fbc864",
   "metadata": {},
   "outputs": [],
   "source": [
    "tesla_data = tesla_ticker.history(period=\"max\")\n"
   ]
  },
  {
   "cell_type": "markdown",
   "id": "83967a56-5fdc-4181-bd05-ecdb048d475f",
   "metadata": {},
   "source": [
    "Reset the index using the reset_index(inplace=True) function on the tesla_data DataFrame and display the first five rows of the tesla_data dataframe using the head function. Take a screenshot of the results and code from the beginning of Question 1 to the results below."
   ]
  },
  {
   "cell_type": "code",
   "execution_count": 18,
   "id": "83efc69f-342b-4bb6-9f42-ad5053b80d96",
   "metadata": {},
   "outputs": [],
   "source": [
    "tesla_data.reset_index(inplace=True)"
   ]
  },
  {
   "cell_type": "code",
   "execution_count": 19,
   "id": "665c2881-3ff5-493f-99db-31b5c597e2b1",
   "metadata": {},
   "outputs": [
    {
     "name": "stdout",
     "output_type": "stream",
     "text": [
      "                       Date      Open      High       Low     Close  \\\n",
      "0 2010-06-29 00:00:00-04:00  1.266667  1.666667  1.169333  1.592667   \n",
      "1 2010-06-30 00:00:00-04:00  1.719333  2.028000  1.553333  1.588667   \n",
      "2 2010-07-01 00:00:00-04:00  1.666667  1.728000  1.351333  1.464000   \n",
      "3 2010-07-02 00:00:00-04:00  1.533333  1.540000  1.247333  1.280000   \n",
      "4 2010-07-06 00:00:00-04:00  1.333333  1.333333  1.055333  1.074000   \n",
      "\n",
      "      Volume  Dividends  Stock Splits  \n",
      "0  281494500        0.0           0.0  \n",
      "1  257806500        0.0           0.0  \n",
      "2  123282000        0.0           0.0  \n",
      "3   77097000        0.0           0.0  \n",
      "4  103003500        0.0           0.0  \n"
     ]
    }
   ],
   "source": [
    "print(tesla_data.head())"
   ]
  },
  {
   "cell_type": "markdown",
   "id": "72802655-ad52-4829-ad39-dca9c37d5159",
   "metadata": {},
   "source": [
    "# **Question 2: Use Webscraping to Extract Tesla Revenue Data**\n",
    "Use the requests library to download the webpage https://cf-courses-data.s3.us.cloud-object-storage.appdomain.cloud/IBMDeveloperSkillsNetwork-PY0220EN-SkillsNetwork/labs/project/revenue.htm Save the text of the response as a variable named html_data."
   ]
  },
  {
   "cell_type": "code",
   "execution_count": 21,
   "id": "4839a8ef-2def-44c7-9cfc-9819f3a9f9cb",
   "metadata": {},
   "outputs": [],
   "source": [
    "url = \"https://cf-courses-data.s3.us.cloud-object-storage.appdomain.cloud/IBMDeveloperSkillsNetwork-PY0220EN-SkillsNetwork/labs/project/revenue.htm\"\n",
    "response = requests.get(url)\n",
    "html_data = response.text\n"
   ]
  },
  {
   "cell_type": "markdown",
   "id": "a8eefadb-3262-44ae-a604-65213ad64516",
   "metadata": {},
   "source": [
    "Parse the html data using beautiful_soup using parser i.e html5lib or html.parser."
   ]
  },
  {
   "cell_type": "code",
   "execution_count": 23,
   "id": "07f318b1-3336-43fc-a1f4-0b6c85fda0f4",
   "metadata": {},
   "outputs": [
    {
     "name": "stdout",
     "output_type": "stream",
     "text": [
      "Tesla Revenue 2010-2022 | TSLA | MacroTrends\n"
     ]
    }
   ],
   "source": [
    "import requests\n",
    "from bs4 import BeautifulSoup\n",
    "# Parse the HTML data\n",
    "soup = BeautifulSoup(html_data, \"html.parser\")  # or use \"html5lib\"\n",
    "print(soup.title.text)  # Verify by printing the title of the webpage\n"
   ]
  },
  {
   "cell_type": "markdown",
   "id": "a1e2fd31-1804-47ef-9fc5-fc80750465f7",
   "metadata": {},
   "source": [
    "Using BeautifulSoup or the read_html function extract the table with Tesla Revenue and store it into a dataframe named tesla_revenue. The dataframe should have columns Date and Revenue."
   ]
  },
  {
   "cell_type": "code",
   "execution_count": 25,
   "id": "1ca6230a-e7b9-4243-9215-e3d8ce824b03",
   "metadata": {},
   "outputs": [],
   "source": [
    "# Step 1 Create an empty DataFrame\n",
    "tesla_revenue = pd.DataFrame(columns=[\"Date\", \"Revenue\"])\n",
    "\n"
   ]
  },
  {
   "cell_type": "code",
   "execution_count": 26,
   "id": "e5304022-f5a3-4237-afab-7973d76be0e0",
   "metadata": {},
   "outputs": [],
   "source": [
    "# Step 2 Find the Relevant Table\n",
    "from bs4 import BeautifulSoup\n",
    "\n",
    "# Parse the HTML data using html.parser\n",
    "soup = BeautifulSoup(html_data, \"html.parser\")\n",
    "\n",
    "# Locate all <table> tags\n",
    "tables = soup.find_all(\"table\")\n"
   ]
  },
  {
   "cell_type": "code",
   "execution_count": 27,
   "id": "aba57f30-a755-4608-84d0-07b34c088a72",
   "metadata": {},
   "outputs": [
    {
     "name": "stdout",
     "output_type": "stream",
     "text": [
      "<table class=\"historical_data_table table\">\n",
      " <thead>\n",
      "  <tr>\n",
      "   <th colspan=\"2\" style=\"text-align:center\">\n",
      "    Tesla Quarterly Revenue\n",
      "    <br/>\n",
      "    <span style=\"font-size:14px;\">\n",
      "     (Millions of US $)\n",
      "    </span>\n",
      "   </th>\n",
      "  </tr>\n",
      " </thead>\n",
      " <tbody>\n",
      "  <tr>\n",
      "   <td style=\"text-align:center\">\n",
      "    2022-09-30\n",
      "   </td>\n",
      "   <td style=\"text-align:center\">\n",
      "    $21,454\n",
      "   </td>\n",
      "  </tr>\n",
      "  <tr>\n",
      "   <td style=\"text-align:center\">\n",
      "    2022-06-30\n",
      "   </td>\n",
      "   <td style=\"text-align:center\">\n",
      "    $16,934\n",
      "   </td>\n",
      "  </tr>\n",
      "  <tr>\n",
      "   <td style=\"text-align:center\">\n",
      "    2022-03-31\n",
      "   </td>\n",
      "   <td style=\"text-align:center\">\n",
      "    $18,756\n",
      "   </td>\n",
      "  </tr>\n",
      "  <tr>\n",
      "   <td style=\"text-align:center\">\n",
      "    2021-12-31\n",
      "   </td>\n",
      "   <td style=\"text-align:center\">\n",
      "    $17,719\n",
      "   </td>\n",
      "  </tr>\n",
      "  <tr>\n",
      "   <td style=\"text-align:center\">\n",
      "    2021-09-30\n",
      "   </td>\n",
      "   <td style=\"text-align:center\">\n",
      "    $13,757\n",
      "   </td>\n",
      "  </tr>\n",
      "  <tr>\n",
      "   <td style=\"text-align:center\">\n",
      "    2021-06-30\n",
      "   </td>\n",
      "   <td style=\"text-align:center\">\n",
      "    $11,95\n"
     ]
    }
   ],
   "source": [
    "# Step 3 Check for the Tesla Quarterly Revenue Table\n",
    "print(tables[1].prettify()[:1000])  # View the table to confirm its structure\n",
    "\n"
   ]
  },
  {
   "cell_type": "markdown",
   "id": "a0035d79-1d61-4e5b-9618-b43e864611c9",
   "metadata": {},
   "source": [
    "Execute the following line to remove the comma and dollar sign from the Revenue column."
   ]
  },
  {
   "cell_type": "code",
   "execution_count": 29,
   "id": "d1295ba5-bfcb-49e8-aba5-8153d23c3bba",
   "metadata": {},
   "outputs": [],
   "source": [
    "# Step 4 Iterate Through Rows in the Table Body\n",
    "# Access the correct table (e.g., index 1)\n",
    "table = tables[1]\n",
    "\n",
    "# Extract table body (tbody)\n",
    "table_body = table.find(\"tbody\")\n",
    "rows = table_body.find_all(\"tr\")  # All rows in the table\n"
   ]
  },
  {
   "cell_type": "code",
   "execution_count": 30,
   "id": "88b65e89-58a5-4a4f-a539-230bbbafb4a6",
   "metadata": {},
   "outputs": [],
   "source": [
    "# Step 5 Extract Data from Columns\n",
    "for row in rows:\n",
    "    columns = row.find_all(\"td\")  # All columns in a row\n",
    "    if len(columns) > 1:  # Skip if the row is empty or malformed\n",
    "        date = columns[0].text.strip()  # First column is Date\n",
    "        revenue = columns[1].text.strip()  # Second column is Revenue\n"
   ]
  },
  {
   "cell_type": "code",
   "execution_count": 31,
   "id": "8993ec29-d11d-4e93-9155-141a57faf905",
   "metadata": {},
   "outputs": [],
   "source": [
    "# Step 6 Append Data to the DataFrame\n",
    "tesla_revenue = pd.DataFrame(columns=[\"Date\", \"Revenue\"])\n",
    "\n",
    "# Inside the loop to append data\n",
    "new_row = pd.DataFrame({\"Date\": [date], \"Revenue\": [revenue]})\n",
    "tesla_revenue = pd.concat([tesla_revenue, new_row], ignore_index=True)\n",
    "\n"
   ]
  },
  {
   "cell_type": "code",
   "execution_count": 32,
   "id": "c6efd02a-41b4-4386-a2c6-9a05b3b2948c",
   "metadata": {},
   "outputs": [],
   "source": [
    "tesla_revenue[\"Revenue\"] = tesla_revenue[\"Revenue\"].str.replace(r\",|\\$\", \"\", regex=True)\n"
   ]
  },
  {
   "cell_type": "code",
   "execution_count": 33,
   "id": "6600055c-fe59-4462-b25c-337d779ce395",
   "metadata": {},
   "outputs": [],
   "source": [
    "\n",
    "# Step 7 Clean the DataFrame:\n",
    "tesla_revenue.dropna(inplace=True)\n",
    "tesla_revenue = tesla_revenue[tesla_revenue[\"Revenue\"] != \"\"]\n",
    "tesla_revenue[\"Revenue\"] = tesla_revenue[\"Revenue\"].astype(float)\n"
   ]
  },
  {
   "cell_type": "code",
   "execution_count": 34,
   "id": "ce326770-5448-444f-9996-8cea4bde3b84",
   "metadata": {},
   "outputs": [
    {
     "name": "stdout",
     "output_type": "stream",
     "text": [
      "         Date  Revenue\n",
      "0  2009-06-30     27.0\n",
      "         Date  Revenue\n",
      "0  2009-06-30     27.0\n"
     ]
    }
   ],
   "source": [
    "# Step 8. Display the cleaned DataFrame:\n",
    "print(tesla_revenue.head())  # Display the first few rows\n",
    "print(tesla_revenue.tail())  # Display the last few rows\n"
   ]
  },
  {
   "cell_type": "code",
   "execution_count": 35,
   "id": "e4cfbd86-4483-4c92-9938-fa76a9988274",
   "metadata": {},
   "outputs": [
    {
     "name": "stdout",
     "output_type": "stream",
     "text": [
      "    Date  Revenue\n",
      "8   2013   2013.0\n",
      "9   2012    413.0\n",
      "10  2011    204.0\n",
      "11  2010    117.0\n",
      "12  2009    112.0\n"
     ]
    }
   ],
   "source": [
    "# Using read_html directly on URL\n",
    "tables = pd.read_html(url)\n",
    "tesla_revenue = tables[0]  # First table on the page\n",
    "\n",
    "# Clean the DataFrame\n",
    "tesla_revenue.columns = [\"Date\", \"Revenue\"]\n",
    "tesla_revenue.dropna(inplace=True)\n",
    "tesla_revenue[\"Revenue\"] = tesla_revenue[\"Revenue\"].str.replace(\",\", \"\").str.replace(\"$\", \"\").astype(float)\n",
    "\n",
    "print(tesla_revenue.tail())"
   ]
  },
  {
   "cell_type": "markdown",
   "id": "f351fd27-9626-4af8-bbbc-12f77dfc96e4",
   "metadata": {},
   "source": [
    "Execute the following lines to remove an null or empty strings in the Revenue column."
   ]
  },
  {
   "cell_type": "code",
   "execution_count": 37,
   "id": "a43cce77-1784-4dfb-8f49-021096c26b7f",
   "metadata": {},
   "outputs": [],
   "source": [
    "tesla_revenue.dropna(inplace=True)\n",
    "\n",
    "tesla_revenue = tesla_revenue[tesla_revenue['Revenue'] != \"\"]"
   ]
  },
  {
   "cell_type": "markdown",
   "id": "63dd4533-0e19-453c-beb6-f5018d5a2863",
   "metadata": {},
   "source": [
    "Display the last 5 row of the tesla_revenue dataframe using the tail function. Take a screenshot of the results."
   ]
  },
  {
   "cell_type": "code",
   "execution_count": 39,
   "id": "87c4fbca-4d7e-43e8-98fe-4187b00224ad",
   "metadata": {},
   "outputs": [
    {
     "data": {
      "text/html": [
       "<div>\n",
       "<style scoped>\n",
       "    .dataframe tbody tr th:only-of-type {\n",
       "        vertical-align: middle;\n",
       "    }\n",
       "\n",
       "    .dataframe tbody tr th {\n",
       "        vertical-align: top;\n",
       "    }\n",
       "\n",
       "    .dataframe thead th {\n",
       "        text-align: right;\n",
       "    }\n",
       "</style>\n",
       "<table border=\"1\" class=\"dataframe\">\n",
       "  <thead>\n",
       "    <tr style=\"text-align: right;\">\n",
       "      <th></th>\n",
       "      <th>Date</th>\n",
       "      <th>Revenue</th>\n",
       "    </tr>\n",
       "  </thead>\n",
       "  <tbody>\n",
       "    <tr>\n",
       "      <th>8</th>\n",
       "      <td>2013</td>\n",
       "      <td>2013.0</td>\n",
       "    </tr>\n",
       "    <tr>\n",
       "      <th>9</th>\n",
       "      <td>2012</td>\n",
       "      <td>413.0</td>\n",
       "    </tr>\n",
       "    <tr>\n",
       "      <th>10</th>\n",
       "      <td>2011</td>\n",
       "      <td>204.0</td>\n",
       "    </tr>\n",
       "    <tr>\n",
       "      <th>11</th>\n",
       "      <td>2010</td>\n",
       "      <td>117.0</td>\n",
       "    </tr>\n",
       "    <tr>\n",
       "      <th>12</th>\n",
       "      <td>2009</td>\n",
       "      <td>112.0</td>\n",
       "    </tr>\n",
       "  </tbody>\n",
       "</table>\n",
       "</div>"
      ],
      "text/plain": [
       "    Date  Revenue\n",
       "8   2013   2013.0\n",
       "9   2012    413.0\n",
       "10  2011    204.0\n",
       "11  2010    117.0\n",
       "12  2009    112.0"
      ]
     },
     "execution_count": 39,
     "metadata": {},
     "output_type": "execute_result"
    }
   ],
   "source": [
    "tesla_revenue.tail()\n"
   ]
  },
  {
   "cell_type": "markdown",
   "id": "acb57482-f261-4289-a10d-3ebc174fd15a",
   "metadata": {},
   "source": [
    "# **Question 3** : Use yfinance to Extract Stock Data\n"
   ]
  },
  {
   "cell_type": "markdown",
   "id": "13418101-ce3b-41a4-859b-fa0da0d2565a",
   "metadata": {},
   "source": [
    "Using the Ticker function enter the ticker symbol of the stock we want to extract data on to create a ticker object. The stock is GameStop and its ticker symbol is GME."
   ]
  },
  {
   "cell_type": "code",
   "execution_count": 42,
   "id": "b1edcdec-bebe-42ee-babe-74c377d11dae",
   "metadata": {},
   "outputs": [],
   "source": [
    "gamestop = yf.Ticker(\"GME\")"
   ]
  },
  {
   "cell_type": "markdown",
   "id": "04b1e36c-6a3c-4b35-8297-0e21ec79e7a1",
   "metadata": {},
   "source": [
    "Using the ticker object and the function history extract stock information and save it in a dataframe named gme_data. Set the period parameter to \"max\" so we get information for the maximum amount of time."
   ]
  },
  {
   "cell_type": "code",
   "execution_count": 44,
   "id": "5d2d368e-25a2-4835-825a-7ac4ae7f0e50",
   "metadata": {},
   "outputs": [
    {
     "name": "stdout",
     "output_type": "stream",
     "text": [
      "                               Open      High       Low     Close    Volume  \\\n",
      "Date                                                                          \n",
      "2002-02-13 00:00:00-05:00  1.620128  1.693350  1.603296  1.691666  76216000   \n",
      "2002-02-14 00:00:00-05:00  1.712707  1.716073  1.670625  1.683250  11021600   \n",
      "2002-02-15 00:00:00-05:00  1.683250  1.687458  1.658002  1.674834   8389600   \n",
      "2002-02-19 00:00:00-05:00  1.666418  1.666418  1.578047  1.607504   7410400   \n",
      "2002-02-20 00:00:00-05:00  1.615920  1.662210  1.603296  1.662210   6892800   \n",
      "\n",
      "                           Dividends  Stock Splits  \n",
      "Date                                                \n",
      "2002-02-13 00:00:00-05:00        0.0           0.0  \n",
      "2002-02-14 00:00:00-05:00        0.0           0.0  \n",
      "2002-02-15 00:00:00-05:00        0.0           0.0  \n",
      "2002-02-19 00:00:00-05:00        0.0           0.0  \n",
      "2002-02-20 00:00:00-05:00        0.0           0.0  \n"
     ]
    }
   ],
   "source": [
    "gme_data = gamestop.history(period=\"max\")\n",
    "print(gme_data.head())"
   ]
  },
  {
   "cell_type": "markdown",
   "id": "3510653e-0040-4a54-8317-9c308afe3359",
   "metadata": {},
   "source": [
    " **Reset the index** using the reset_index(inplace=True) function on the gme_data DataFrame and display the first five rows of the gme_data dataframe using the head function. Take a screenshot of the results and code from the beginning of Question 3 to the results below."
   ]
  },
  {
   "cell_type": "code",
   "execution_count": 46,
   "id": "a9ae093a-ce5c-410c-ba03-e49571bd6582",
   "metadata": {},
   "outputs": [
    {
     "name": "stdout",
     "output_type": "stream",
     "text": [
      "                       Date      Open      High       Low     Close    Volume  \\\n",
      "0 2002-02-13 00:00:00-05:00  1.620128  1.693350  1.603296  1.691666  76216000   \n",
      "1 2002-02-14 00:00:00-05:00  1.712707  1.716073  1.670625  1.683250  11021600   \n",
      "2 2002-02-15 00:00:00-05:00  1.683250  1.687458  1.658002  1.674834   8389600   \n",
      "3 2002-02-19 00:00:00-05:00  1.666418  1.666418  1.578047  1.607504   7410400   \n",
      "4 2002-02-20 00:00:00-05:00  1.615920  1.662210  1.603296  1.662210   6892800   \n",
      "\n",
      "   Dividends  Stock Splits  \n",
      "0        0.0           0.0  \n",
      "1        0.0           0.0  \n",
      "2        0.0           0.0  \n",
      "3        0.0           0.0  \n",
      "4        0.0           0.0  \n"
     ]
    }
   ],
   "source": [
    "# Reset the index of the gme_data DataFrame\n",
    "gme_data.reset_index(inplace=True)\n",
    "\n",
    "# Display the first five rows of the gme_data DataFrame\n",
    "print(gme_data.head())\n"
   ]
  },
  {
   "cell_type": "markdown",
   "id": "2f16c494-2b28-4a4b-827a-e1e28caea539",
   "metadata": {},
   "source": [
    "# **Question 4: Use Webscraping to Extract GME Revenue Data**"
   ]
  },
  {
   "cell_type": "markdown",
   "id": "1dea6ce0-782d-43a9-9b40-31ea4114d97d",
   "metadata": {},
   "source": [
    "Use the requests library to download the webpage https://cf-courses-data.s3.us.cloud-object-storage.appdomain.cloud/IBMDeveloperSkillsNetwork-PY0220EN-SkillsNetwork/labs/project/stock.html. Save the text of the response as a variable named html_data_2."
   ]
  },
  {
   "cell_type": "code",
   "execution_count": 53,
   "id": "de24929a-f2f6-48aa-9ba4-9d8eda122ac4",
   "metadata": {},
   "outputs": [
    {
     "name": "stdout",
     "output_type": "stream",
     "text": [
      "<?xml version=\"1.0\" encoding=\"UTF-8\" standalone=\"yes\"?><Error><Code>NoSuchKey</Code><Message>The specified key does not exist.</Message><Resource>/cf-courses-data/IBMDeveloperSkillsNetwork-PY0220EN-SkillsNetwork/labs/project/stock.html.</Resource><RequestId>eac00cb7-7e76-4a82-a9ce-3bf4e5d8dd0f</RequestId><httpStatusCode>404</httpStatusCode></Error>\n"
     ]
    }
   ],
   "source": [
    "url = \"https://cf-courses-data.s3.us.cloud-object-storage.appdomain.cloud/IBMDeveloperSkillsNetwork-PY0220EN-SkillsNetwork/labs/project/stock.html.\"\n",
    "response = requests.get(url)\n",
    "html_data_2 = response.text\n",
    "\n",
    "print(html_data_2[:500])"
   ]
  },
  {
   "cell_type": "markdown",
   "id": "711c0feb-c903-429d-879c-b46694fe837b",
   "metadata": {},
   "source": [
    "Parse the html data using beautiful_soup using parser i.e html5lib or html.parser."
   ]
  },
  {
   "cell_type": "code",
   "execution_count": 56,
   "id": "e7b1798d-55e7-4026-bfbe-35a74461d3e7",
   "metadata": {},
   "outputs": [],
   "source": [
    "from bs4 import BeautifulSoup  # For parsing HTML data\n",
    "import requests  # For making HTTP requests\n",
    "\n",
    "# URL of the webpage\n",
    "url = \"https://cf-courses-data.s3.us.cloud-object-storage.appdomain.cloud/IBMDeveloperSkillsNetwork-PY0220EN-SkillsNetwork/labs/project/stock.html\"\n",
    "\n",
    "# Get HTML data\n",
    "response = requests.get(url)\n",
    "html_data_2 = response.text  # Save the response text\n",
    "\n"
   ]
  },
  {
   "cell_type": "code",
   "execution_count": 57,
   "id": "008bdb93-5d54-4f8d-b96a-5fa3a0a6ecf8",
   "metadata": {},
   "outputs": [
    {
     "name": "stdout",
     "output_type": "stream",
     "text": [
      "<!DOCTYPE html>\n",
      "<!--[if lt IE 7]>      <html class=\"no-js lt-ie9 lt-ie8 lt-ie7\"> <![endif]-->\n",
      "<!--[if IE 7]>         <html class=\"no-js lt-ie9 lt-ie8\"> <![endif]-->\n",
      "<!--[if IE 8]>         <html class=\"no-js lt-ie9\"> <![endif]-->\n",
      "<!--[if gt IE 8]><!-->\n",
      "<html class=\"no-js\">\n",
      " <!--<![endif]-->\n",
      " <head>\n",
      "  <meta charset=\"utf-8\"/>\n",
      "  <meta content=\"IE=edge,chrome=1\" http-equiv=\"X-UA-Compatible\"/>\n",
      "  <link href=\"https://www.macrotrends.net/stocks/charts/TSLA/tesla/revenue\" rel=\"canonical\"/>\n",
      "  <title>\n",
      "   Te\n"
     ]
    }
   ],
   "source": [
    "print(soup.prettify()[:500])  # Print the first 500 characters of the parsed HTML\n"
   ]
  },
  {
   "cell_type": "markdown",
   "id": "fd94b4de-3beb-432a-a964-5a3a46bc48ed",
   "metadata": {},
   "source": [
    "Using BeautifulSoup or the read_html function extract the table with GameStop Revenue and store it into a dataframe named gme_revenue. The dataframe should have columns Date and Revenue. Make sure the comma and dollar sign is removed from the Revenue column."
   ]
  },
  {
   "cell_type": "code",
   "execution_count": 61,
   "id": "b2afdd8c-69cd-4230-83c9-b84db05f6522",
   "metadata": {},
   "outputs": [],
   "source": [
    "# Step 1 Create an empty DataFrame\n",
    "gme_revenue = pd.DataFrame(columns=[\"Date\", \"Revenue\"])"
   ]
  },
  {
   "cell_type": "code",
   "execution_count": 63,
   "id": "167835b0-99f9-4a4b-b5db-b0d2669d1f4d",
   "metadata": {},
   "outputs": [],
   "source": [
    "# Find all tables in the webpage\n",
    "tables = soup.find_all(\"table\")\n",
    "\n",
    "# Choose the second table (index 1) if that contains GameStop revenue\n",
    "gme_table = tables[1]  # This assumes the second table contains GameStop revenue\n"
   ]
  },
  {
   "cell_type": "code",
   "execution_count": 65,
   "id": "f8aba10c-1fd2-4f32-8337-c2b91c1cfa47",
   "metadata": {},
   "outputs": [
    {
     "name": "stdout",
     "output_type": "stream",
     "text": [
      "<table class=\"historical_data_table table\">\n",
      " <thead>\n",
      "  <tr>\n",
      "   <th colspan=\"2\" style=\"text-align:center\">\n",
      "    Tesla Quarterly Revenue\n",
      "    <br/>\n",
      "    <span style=\"font-size:14px;\">\n",
      "     (Millions of US $)\n",
      "    </span>\n",
      "   </th>\n",
      "  </tr>\n",
      " </thead>\n",
      " <tbody>\n",
      "  <tr>\n",
      "   <td style=\"text-align:center\">\n",
      "    2022-09-30\n",
      "   </td>\n",
      "   <td style=\"text-align:center\">\n",
      "    $21,454\n",
      "   </td>\n",
      "  </tr>\n",
      "  <tr>\n",
      "   <td style=\"text-align:center\">\n",
      "    2022-06-30\n",
      "   </td>\n",
      "   <td style=\"text-align:center\">\n",
      "    $16,934\n",
      "   </td>\n",
      "  </tr>\n",
      "  <tr>\n",
      "   <td style=\"text-align:center\">\n",
      "    2022-03-31\n",
      "   </td>\n",
      "   <td style=\"text-align:center\">\n",
      "    $18,756\n",
      "   </td>\n",
      "  </tr>\n",
      "  <tr>\n",
      "   <td style=\"text-align:center\">\n",
      "    2021-12-31\n",
      "   </td>\n",
      "   <td style=\"text-align:center\">\n",
      "    $17,719\n",
      "   </td>\n",
      "  </tr>\n",
      "  <tr>\n",
      "   <td style=\"text-align:center\">\n",
      "    2021-09-30\n",
      "   </td>\n",
      "   <td style=\"text-align:center\">\n",
      "    $13,757\n",
      "   </td>\n",
      "  </tr>\n",
      "  <tr>\n",
      "   <td style=\"text-align:center\">\n",
      "    2021-06-30\n",
      "   </td>\n",
      "   <td style=\"text-align:center\">\n",
      "    $11,95\n"
     ]
    }
   ],
   "source": [
    "print(gme_table.prettify()[:1000])  # Print the first 1000 characters to inspect\n"
   ]
  },
  {
   "cell_type": "code",
   "execution_count": 67,
   "id": "5d63ba01-e00c-4b6a-a811-854dc5009690",
   "metadata": {},
   "outputs": [],
   "source": [
    "# Step 4 Iterate Through Rows in the Table Body\n",
    "# Access the correct table (e.g., index 1)\n",
    "table = tables[1]\n",
    "\n",
    "# Extract table body (tbody)\n",
    "table_body = table.find(\"tbody\")\n",
    "rows = table_body.find_all(\"tr\")  # All rows in the table\n"
   ]
  },
  {
   "cell_type": "code",
   "execution_count": 69,
   "id": "5183583d-d3f6-45e2-b79d-7e149643ce73",
   "metadata": {},
   "outputs": [],
   "source": [
    "# Step 5 Extract Data from Columns\n",
    "for row in rows:\n",
    "    columns = row.find_all(\"td\")  # All columns in a row\n",
    "    if len(columns) > 1:  # Skip if the row is empty or malformed\n",
    "        date = columns[0].text.strip()  # First column is Date\n",
    "        revenue = columns[1].text.strip()  # Second column is Revenue"
   ]
  },
  {
   "cell_type": "code",
   "execution_count": 71,
   "id": "9a2c9a9b-9d22-42d2-94b7-12da4a76f7fd",
   "metadata": {},
   "outputs": [],
   "source": [
    "# Step 6 Append Data to the DataFrame\n",
    "gme_revenue = pd.DataFrame(columns=[\"Date\", \"Revenue\"])\n",
    "\n",
    "# Inside the loop to append data\n",
    "new_row = pd.DataFrame({\"Date\": [date], \"Revenue\": [revenue]})\n",
    "gme_revenue = pd.concat([gme_revenue, new_row], ignore_index=True)"
   ]
  },
  {
   "cell_type": "code",
   "execution_count": 73,
   "id": "40c5c19f-7d68-4370-b95f-f6f94d5e14d3",
   "metadata": {},
   "outputs": [
    {
     "name": "stdout",
     "output_type": "stream",
     "text": [
      "         Date Revenue\n",
      "0  2009-06-30     $27\n",
      "         Date Revenue\n",
      "0  2009-06-30     $27\n"
     ]
    }
   ],
   "source": [
    "# Step 8. Display the cleaned DataFrame:\n",
    "print(gme_revenue.head())  # Display the first few rows\n",
    "print(gme_revenue.tail())  # Display the last few rows"
   ]
  },
  {
   "cell_type": "code",
   "execution_count": 107,
   "id": "b7d688bd-c41a-4883-9f20-b3b59700dab4",
   "metadata": {},
   "outputs": [
    {
     "name": "stdout",
     "output_type": "stream",
     "text": [
      "    Date Revenue\n",
      "11  2009  $8,806\n",
      "12  2008  $7,094\n",
      "13  2007  $5,319\n",
      "14  2006  $3,092\n",
      "15  2005  $1,843\n"
     ]
    }
   ],
   "source": [
    "import pandas as pd\n",
    "\n",
    "# Extract the first table from the parsed HTML data\n",
    "table = soup.find(\"table\")  # Finds the first table\n",
    "gme_revenue = pd.read_html(str(table))[0]  # Convert the table to a DataFrame\n",
    "\n",
    "# Rename columns for clarity\n",
    "gme_revenue.columns = [\"Date\", \"Revenue\"]\n",
    "\n",
    "# Drop rows with missing data (if any)\n",
    "gme_revenue.dropna(inplace=True)\n",
    "\n",
    "# Display the first five rows \n",
    "print(gme_revenue.tail())"
   ]
  },
  {
   "cell_type": "markdown",
   "id": "ce353df1-cc91-4d6a-95a2-4b68c23fc047",
   "metadata": {},
   "source": [
    "# **Question 5: Plot Tesla Stock Graph**\n",
    "Use the make_graph function to graph the Tesla Stock Data, also provide a title for the graph. Note the graph will only show data upto June 2021."
   ]
  },
  {
   "cell_type": "code",
   "execution_count": 117,
   "id": "11d9e111-87d7-42f3-a0ad-eb9e81624a96",
   "metadata": {},
   "outputs": [],
   "source": [
    "# Convert Date column to datetime format\n",
    "tesla_data['Date'] = pd.to_datetime(tesla_data['Date'])\n",
    "\n",
    "# Filter the data up to June 2021\n",
    "tesla_filtered = tesla_data[tesla_data['Date'] <= '2021-06-30']\n"
   ]
  },
  {
   "cell_type": "code",
   "execution_count": 119,
   "id": "48f249a0-315d-47c9-aaa1-cc1f16f1048a",
   "metadata": {},
   "outputs": [],
   "source": [
    "import matplotlib.pyplot as plt\n",
    "\n",
    "def make_graph(stock_data, revenue_data, title):\n",
    "    plt.figure(figsize=(10, 5))\n",
    "    plt.plot(stock_data['Date'], stock_data['Close'], label='Stock Price')\n",
    "    plt.xlabel(\"Date\")\n",
    "    plt.ylabel(\"Stock Price (in USD)\")\n",
    "    plt.title(f\"{title} Stock Price Until June 2021\")\n",
    "    plt.grid(True)\n",
    "    plt.legend()\n",
    "    plt.show()\n"
   ]
  },
  {
   "cell_type": "code",
   "execution_count": 121,
   "id": "c8dc9661-0314-4afc-af1c-d203ea43929c",
   "metadata": {},
   "outputs": [
    {
     "data": {
      "image/png": "[encoded data removed]",
      "text/plain": [
       "<Figure size 1000x500 with 1 Axes>"
      ]
     },
     "metadata": {},
     "output_type": "display_data"
    }
   ],
   "source": [
    "make_graph(tesla_data, tesla_revenue, 'Tesla')\n"
   ]
  },
  {
   "cell_type": "markdown",
   "id": "94d9ade3-19e1-4a53-8031-1d57b8a1e4b9",
   "metadata": {},
   "source": [
    "# **Question 6: Plot GameStop Stock Graph**\n",
    "Use the make_graph function to graph the GameStop Stock Data, also provide a title for the graph. The structure to call the make_graph function is make_graph(gme_data, gme_revenue, 'GameStop'). Note the graph will only show data upto June 2021.\n",
    "\n"
   ]
  },
  {
   "cell_type": "code",
   "execution_count": 128,
   "id": "8207b60b-aff4-4422-bd1f-b346eef0c044",
   "metadata": {},
   "outputs": [],
   "source": [
    "# Convert Date column to datetime format\n",
    "gme_data['Date'] = pd.to_datetime(gme_data['Date'])\n",
    "\n",
    "# Filter the data up to June 2021\n",
    "gme_filtered = gme_data[gme_data['Date'] <= '2021-06-30']\n"
   ]
  },
  {
   "cell_type": "code",
   "execution_count": 130,
   "id": "eff40f82-f754-4e05-a2ed-148003f11ed9",
   "metadata": {},
   "outputs": [],
   "source": [
    "import matplotlib.pyplot as plt\n",
    "\n",
    "def make_graph(stock_data, revenue_data, title):\n",
    "    plt.figure(figsize=(10, 5))\n",
    "    plt.plot(stock_data['Date'], stock_data['Close'], label='Stock Price', color='orange')\n",
    "    plt.xlabel(\"Date\")\n",
    "    plt.ylabel(\"Stock Price (in USD)\")\n",
    "    plt.title(f\"{title} Stock Price Until June 2021\")\n",
    "    plt.grid(True)\n",
    "    plt.legend()\n",
    "    plt.show()\n"
   ]
  },
  {
   "cell_type": "code",
   "execution_count": 132,
   "id": "ddad2790-4af7-4b23-85c5-4a6b4dee2da6",
   "metadata": {},
   "outputs": [
    {
     "data": {
      "image/png": "[encoded data removed]",
      "text/plain": [
       "<Figure size 1000x500 with 1 Axes>"
      ]
     },
     "metadata": {},
     "output_type": "display_data"
    }
   ],
   "source": [
    "# Plot GameStop stock graph\n",
    "make_graph(gme_filtered, gme_revenue, 'GameStop')\n"
   ]
  },
  {
   "cell_type": "code",
   "execution_count": null,
   "id": "83a2f2a7-e389-43bf-bf52-6a554d4785b2",
   "metadata": {},
   "outputs": [],
   "source": []
  }
 ],
 "metadata": {
  "kernelspec": {
   "display_name": "Python [conda env:anaconda3]",
   "language": "python",
   "name": "conda-env-anaconda3-py"
  },
  "language_info": {
   "codemirror_mode": {
    "name": "ipython",
    "version": 3
   },
   "file_extension": ".py",
   "mimetype": "text/x-python",
   "name": "python",
   "nbconvert_exporter": "python",
   "pygments_lexer": "ipython3",
   "version": "3.12.4"
  }
 },
 "nbformat": 4,
 "nbformat_minor": 5
}
